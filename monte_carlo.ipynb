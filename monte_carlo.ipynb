{
 "cells": [
  {
   "cell_type": "markdown",
   "metadata": {},
   "source": [
    "First, we load the historical data, generate the map, and perform the Monte Carlo simulation."
   ]
  },
  {
   "cell_type": "code",
   "execution_count": null,
   "metadata": {},
   "outputs": [],
   "source": [
    "from simulator.simulator import Location, Map, Road, MovementModel, simulate\n",
    "from simulator.data import generate_map_from_data, generate_mean_movement_model_from_data, load_data, generate_random_movement_model_from_data\n",
    "from simulator.monte_carlo import simulate_monte_carlo\n",
    "\n",
    "class DurationDecisionMetric:\n",
    "   def get_metric(self, r: Road, m: MovementModel) -> float:\n",
    "      return m.get_duration_minutes(r)\n",
    "\n",
    "vienna = Location('Vienna')\n",
    "innsbruck = Location('Innsbruck')\n",
    "\n",
    "historical_data = load_data('data.csv')\n",
    "map = generate_map_from_data(historical_data)\n",
    "\n",
    "monte_carlo_result = simulate_monte_carlo(map, vienna, innsbruck, historical_data, DurationDecisionMetric(), 1000)\n",
    "\n",
    "print(monte_carlo_result)"
   ]
  },
  {
   "cell_type": "markdown",
   "metadata": {},
   "source": [
    "Now we turn to interpreting the results."
   ]
  },
  {
   "cell_type": "code",
   "execution_count": null,
   "metadata": {},
   "outputs": [],
   "source": [
    "import matplotlib.pyplot as plt\n",
    "\n",
    "fig, axs = plt.subplots(1, 3, figsize=(15,5))\n",
    "\n",
    "route_counts = monte_carlo_result.route_counts()\n",
    "\n",
    "route_lengths = [ len(route_result.route.legs) for route_result in monte_carlo_result.route_results ]\n",
    "axs[0].hist(route_lengths, log=True)\n",
    "axs[0].set_title('Route Lengths')\n",
    "\n",
    "route_co2s = [ co2 for (_, co2) in monte_carlo_result.routes_with_co2_kg() ] \n",
    "axs[1].hist(route_co2s)\n",
    "axs[1].set_title('Route CO2 Emissions')\n",
    "\n",
    "route_durations = [ duration for (_, duration) in monte_carlo_result.routes_with_duration_minutes() ]\n",
    "axs[2].hist(route_durations)\n",
    "axs[2].set_title('Route Durations')"
   ]
  },
  {
   "cell_type": "code",
   "execution_count": null,
   "metadata": {},
   "outputs": [],
   "source": [
    "from statistics import mean\n",
    "\n",
    "eta = mean(route_durations)\n",
    "print(f'ETA: {eta:.2f}m')\n",
    "\n",
    "acceptable_deviation_minutes = 10\n",
    "\n",
    "from simulator.risk import risk\n",
    "\n",
    "r = risk(route_durations, 30)\n",
    "print(f'Risk: {r*100:.2f}%')"
   ]
  },
  {
   "cell_type": "code",
   "execution_count": null,
   "metadata": {},
   "outputs": [],
   "source": [
    "from simulator.copert_co2 import get_co2_emissions_kg_per_100km\n",
    "\n",
    "xs = range(40, 120)\n",
    "ys = [get_co2_emissions_kg_per_100km(x) for x in xs]\n",
    "plt.plot(xs, ys)\n",
    "print(get_co2_emissions_kg_per_100km(40))\n",
    "print(get_co2_emissions_kg_per_100km(100))"
   ]
  }
 ],
 "metadata": {
  "interpreter": {
   "hash": "2df980fe8922bf32117256dfb7e8a97f74a70e66ecb5bc0fd442b91cd5988357"
  },
  "kernelspec": {
   "display_name": "Python 3.9.5 ('base')",
   "language": "python",
   "name": "python3"
  },
  "language_info": {
   "codemirror_mode": {
    "name": "ipython",
    "version": 3
   },
   "file_extension": ".py",
   "mimetype": "text/x-python",
   "name": "python",
   "nbconvert_exporter": "python",
   "pygments_lexer": "ipython3",
   "version": "3.9.9"
  }
 },
 "nbformat": 4,
 "nbformat_minor": 2
}
